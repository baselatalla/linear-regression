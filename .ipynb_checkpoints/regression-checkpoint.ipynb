{
 "cells": [
  {
   "cell_type": "code",
   "execution_count": 1,
   "id": "e4fc7a0e-e0e3-4b6e-9d01-4054543691e3",
   "metadata": {
    "jupyter": {
     "source_hidden": true
    },
    "tags": []
   },
   "outputs": [],
   "source": [
    "import pandas as pd\n",
    "import matplotlib.pyplot as plt\n",
    "from sklearn.linear_model import LinearRegression\n",
    "from sklearn.model_selection import train_test_split"
   ]
  },
  {
   "cell_type": "markdown",
   "id": "4a608183-4e79-4134-8624-3de5eeadf223",
   "metadata": {},
   "source": [
    "#### Load the data you receive into a Pandas DataFrame."
   ]
  },
  {
   "cell_type": "code",
   "execution_count": 2,
   "id": "6fb61f63-1cd7-4572-a80b-794edaa66af6",
   "metadata": {},
   "outputs": [],
   "source": [
    "df = pd.read_csv('./Height_Weight.csv')\n",
    "df1 = pd.read_csv('./CO2_Emissions.csv')"
   ]
  },
  {
   "cell_type": "markdown",
   "id": "b36b49c5-ccda-4a27-98ed-61ed565234c8",
   "metadata": {},
   "source": [
    "#### Show the first five rows of the data set."
   ]
  },
  {
   "cell_type": "code",
   "execution_count": 3,
   "id": "0d3d7c55-bf52-4d68-ad00-58df93ac9adb",
   "metadata": {},
   "outputs": [
    {
     "data": {
      "text/html": [
       "<div>\n",
       "<style scoped>\n",
       "    .dataframe tbody tr th:only-of-type {\n",
       "        vertical-align: middle;\n",
       "    }\n",
       "\n",
       "    .dataframe tbody tr th {\n",
       "        vertical-align: top;\n",
       "    }\n",
       "\n",
       "    .dataframe thead th {\n",
       "        text-align: right;\n",
       "    }\n",
       "</style>\n",
       "<table border=\"1\" class=\"dataframe\">\n",
       "  <thead>\n",
       "    <tr style=\"text-align: right;\">\n",
       "      <th></th>\n",
       "      <th>Weight</th>\n",
       "      <th>Height</th>\n",
       "    </tr>\n",
       "  </thead>\n",
       "  <tbody>\n",
       "    <tr>\n",
       "      <th>0</th>\n",
       "      <td>28.0</td>\n",
       "      <td>121.92</td>\n",
       "    </tr>\n",
       "    <tr>\n",
       "      <th>1</th>\n",
       "      <td>28.1</td>\n",
       "      <td>124.46</td>\n",
       "    </tr>\n",
       "    <tr>\n",
       "      <th>2</th>\n",
       "      <td>28.2</td>\n",
       "      <td>127.00</td>\n",
       "    </tr>\n",
       "    <tr>\n",
       "      <th>3</th>\n",
       "      <td>28.3</td>\n",
       "      <td>129.54</td>\n",
       "    </tr>\n",
       "    <tr>\n",
       "      <th>4</th>\n",
       "      <td>28.4</td>\n",
       "      <td>132.08</td>\n",
       "    </tr>\n",
       "  </tbody>\n",
       "</table>\n",
       "</div>"
      ],
      "text/plain": [
       "   Weight  Height\n",
       "0    28.0  121.92\n",
       "1    28.1  124.46\n",
       "2    28.2  127.00\n",
       "3    28.3  129.54\n",
       "4    28.4  132.08"
      ]
     },
     "execution_count": 3,
     "metadata": {},
     "output_type": "execute_result"
    }
   ],
   "source": [
    "df.head(5)  "
   ]
  },
  {
   "cell_type": "code",
   "execution_count": 4,
   "id": "30dc24ce-7266-429f-976e-8f327cfb3983",
   "metadata": {},
   "outputs": [
    {
     "data": {
      "text/html": [
       "<div>\n",
       "<style scoped>\n",
       "    .dataframe tbody tr th:only-of-type {\n",
       "        vertical-align: middle;\n",
       "    }\n",
       "\n",
       "    .dataframe tbody tr th {\n",
       "        vertical-align: top;\n",
       "    }\n",
       "\n",
       "    .dataframe thead th {\n",
       "        text-align: right;\n",
       "    }\n",
       "</style>\n",
       "<table border=\"1\" class=\"dataframe\">\n",
       "  <thead>\n",
       "    <tr style=\"text-align: right;\">\n",
       "      <th></th>\n",
       "      <th>Make</th>\n",
       "      <th>Model</th>\n",
       "      <th>Vehicle Class</th>\n",
       "      <th>Engine Size(L)</th>\n",
       "      <th>Cylinders</th>\n",
       "      <th>Transmission</th>\n",
       "      <th>Fuel Type</th>\n",
       "      <th>Fuel Consumption City (L/100 km)</th>\n",
       "      <th>Fuel Consumption Hwy (L/100 km)</th>\n",
       "      <th>Fuel Consumption Comb (L/100 km)</th>\n",
       "      <th>Fuel Consumption Comb (mpg)</th>\n",
       "      <th>CO2 Emissions(g/km)</th>\n",
       "    </tr>\n",
       "  </thead>\n",
       "  <tbody>\n",
       "    <tr>\n",
       "      <th>0</th>\n",
       "      <td>ACURA</td>\n",
       "      <td>ILX</td>\n",
       "      <td>COMPACT</td>\n",
       "      <td>2.0</td>\n",
       "      <td>4</td>\n",
       "      <td>AS5</td>\n",
       "      <td>Z</td>\n",
       "      <td>9.9</td>\n",
       "      <td>6.7</td>\n",
       "      <td>8.5</td>\n",
       "      <td>33</td>\n",
       "      <td>196</td>\n",
       "    </tr>\n",
       "    <tr>\n",
       "      <th>1</th>\n",
       "      <td>ACURA</td>\n",
       "      <td>ILX</td>\n",
       "      <td>COMPACT</td>\n",
       "      <td>2.4</td>\n",
       "      <td>4</td>\n",
       "      <td>M6</td>\n",
       "      <td>Z</td>\n",
       "      <td>11.2</td>\n",
       "      <td>7.7</td>\n",
       "      <td>9.6</td>\n",
       "      <td>29</td>\n",
       "      <td>221</td>\n",
       "    </tr>\n",
       "    <tr>\n",
       "      <th>2</th>\n",
       "      <td>ACURA</td>\n",
       "      <td>ILX HYBRID</td>\n",
       "      <td>COMPACT</td>\n",
       "      <td>1.5</td>\n",
       "      <td>4</td>\n",
       "      <td>AV7</td>\n",
       "      <td>Z</td>\n",
       "      <td>6.0</td>\n",
       "      <td>5.8</td>\n",
       "      <td>5.9</td>\n",
       "      <td>48</td>\n",
       "      <td>136</td>\n",
       "    </tr>\n",
       "    <tr>\n",
       "      <th>3</th>\n",
       "      <td>ACURA</td>\n",
       "      <td>MDX 4WD</td>\n",
       "      <td>SUV - SMALL</td>\n",
       "      <td>3.5</td>\n",
       "      <td>6</td>\n",
       "      <td>AS6</td>\n",
       "      <td>Z</td>\n",
       "      <td>12.7</td>\n",
       "      <td>9.1</td>\n",
       "      <td>11.1</td>\n",
       "      <td>25</td>\n",
       "      <td>255</td>\n",
       "    </tr>\n",
       "    <tr>\n",
       "      <th>4</th>\n",
       "      <td>ACURA</td>\n",
       "      <td>RDX AWD</td>\n",
       "      <td>SUV - SMALL</td>\n",
       "      <td>3.5</td>\n",
       "      <td>6</td>\n",
       "      <td>AS6</td>\n",
       "      <td>Z</td>\n",
       "      <td>12.1</td>\n",
       "      <td>8.7</td>\n",
       "      <td>10.6</td>\n",
       "      <td>27</td>\n",
       "      <td>244</td>\n",
       "    </tr>\n",
       "  </tbody>\n",
       "</table>\n",
       "</div>"
      ],
      "text/plain": [
       "    Make       Model Vehicle Class  Engine Size(L)  Cylinders Transmission  \\\n",
       "0  ACURA         ILX       COMPACT             2.0          4          AS5   \n",
       "1  ACURA         ILX       COMPACT             2.4          4           M6   \n",
       "2  ACURA  ILX HYBRID       COMPACT             1.5          4          AV7   \n",
       "3  ACURA     MDX 4WD   SUV - SMALL             3.5          6          AS6   \n",
       "4  ACURA     RDX AWD   SUV - SMALL             3.5          6          AS6   \n",
       "\n",
       "  Fuel Type  Fuel Consumption City (L/100 km)  \\\n",
       "0         Z                               9.9   \n",
       "1         Z                              11.2   \n",
       "2         Z                               6.0   \n",
       "3         Z                              12.7   \n",
       "4         Z                              12.1   \n",
       "\n",
       "   Fuel Consumption Hwy (L/100 km)  Fuel Consumption Comb (L/100 km)  \\\n",
       "0                              6.7                               8.5   \n",
       "1                              7.7                               9.6   \n",
       "2                              5.8                               5.9   \n",
       "3                              9.1                              11.1   \n",
       "4                              8.7                              10.6   \n",
       "\n",
       "   Fuel Consumption Comb (mpg)  CO2 Emissions(g/km)  \n",
       "0                           33                  196  \n",
       "1                           29                  221  \n",
       "2                           48                  136  \n",
       "3                           25                  255  \n",
       "4                           27                  244  "
      ]
     },
     "execution_count": 4,
     "metadata": {},
     "output_type": "execute_result"
    }
   ],
   "source": [
    "df1.head(5)"
   ]
  },
  {
   "cell_type": "code",
   "execution_count": 5,
   "id": "442bf8ed",
   "metadata": {},
   "outputs": [
    {
     "name": "stdout",
     "output_type": "stream",
     "text": [
      "<class 'pandas.core.frame.DataFrame'>\n",
      "RangeIndex: 35 entries, 0 to 34\n",
      "Data columns (total 2 columns):\n",
      " #   Column  Non-Null Count  Dtype  \n",
      "---  ------  --------------  -----  \n",
      " 0   Weight  35 non-null     float64\n",
      " 1   Height  35 non-null     float64\n",
      "dtypes: float64(2)\n",
      "memory usage: 688.0 bytes\n"
     ]
    }
   ],
   "source": [
    "df.info()"
   ]
  },
  {
   "cell_type": "code",
   "execution_count": 6,
   "id": "35eea045",
   "metadata": {},
   "outputs": [
    {
     "name": "stdout",
     "output_type": "stream",
     "text": [
      "<class 'pandas.core.frame.DataFrame'>\n",
      "RangeIndex: 7385 entries, 0 to 7384\n",
      "Data columns (total 12 columns):\n",
      " #   Column                            Non-Null Count  Dtype  \n",
      "---  ------                            --------------  -----  \n",
      " 0   Make                              7385 non-null   object \n",
      " 1   Model                             7385 non-null   object \n",
      " 2   Vehicle Class                     7385 non-null   object \n",
      " 3   Engine Size(L)                    7385 non-null   float64\n",
      " 4   Cylinders                         7385 non-null   int64  \n",
      " 5   Transmission                      7385 non-null   object \n",
      " 6   Fuel Type                         7385 non-null   object \n",
      " 7   Fuel Consumption City (L/100 km)  7385 non-null   float64\n",
      " 8   Fuel Consumption Hwy (L/100 km)   7385 non-null   float64\n",
      " 9   Fuel Consumption Comb (L/100 km)  7385 non-null   float64\n",
      " 10  Fuel Consumption Comb (mpg)       7385 non-null   int64  \n",
      " 11  CO2 Emissions(g/km)               7385 non-null   int64  \n",
      "dtypes: float64(4), int64(3), object(5)\n",
      "memory usage: 692.5+ KB\n"
     ]
    }
   ],
   "source": [
    "df1.info()"
   ]
  },
  {
   "cell_type": "code",
   "execution_count": 7,
   "id": "3e5e0a6f",
   "metadata": {},
   "outputs": [
    {
     "data": {
      "text/html": [
       "<div>\n",
       "<style scoped>\n",
       "    .dataframe tbody tr th:only-of-type {\n",
       "        vertical-align: middle;\n",
       "    }\n",
       "\n",
       "    .dataframe tbody tr th {\n",
       "        vertical-align: top;\n",
       "    }\n",
       "\n",
       "    .dataframe thead th {\n",
       "        text-align: right;\n",
       "    }\n",
       "</style>\n",
       "<table border=\"1\" class=\"dataframe\">\n",
       "  <thead>\n",
       "    <tr style=\"text-align: right;\">\n",
       "      <th></th>\n",
       "      <th>Weight</th>\n",
       "      <th>Height</th>\n",
       "    </tr>\n",
       "  </thead>\n",
       "  <tbody>\n",
       "    <tr>\n",
       "      <th>count</th>\n",
       "      <td>35.000000</td>\n",
       "      <td>35.000000</td>\n",
       "    </tr>\n",
       "    <tr>\n",
       "      <th>mean</th>\n",
       "      <td>62.808571</td>\n",
       "      <td>165.070857</td>\n",
       "    </tr>\n",
       "    <tr>\n",
       "      <th>std</th>\n",
       "      <td>25.004992</td>\n",
       "      <td>25.979902</td>\n",
       "    </tr>\n",
       "    <tr>\n",
       "      <th>min</th>\n",
       "      <td>28.000000</td>\n",
       "      <td>121.920000</td>\n",
       "    </tr>\n",
       "    <tr>\n",
       "      <th>25%</th>\n",
       "      <td>41.300000</td>\n",
       "      <td>143.510000</td>\n",
       "    </tr>\n",
       "    <tr>\n",
       "      <th>50%</th>\n",
       "      <td>62.600000</td>\n",
       "      <td>165.100000</td>\n",
       "    </tr>\n",
       "    <tr>\n",
       "      <th>75%</th>\n",
       "      <td>83.650000</td>\n",
       "      <td>186.690000</td>\n",
       "    </tr>\n",
       "    <tr>\n",
       "      <th>max</th>\n",
       "      <td>104.800000</td>\n",
       "      <td>208.000000</td>\n",
       "    </tr>\n",
       "  </tbody>\n",
       "</table>\n",
       "</div>"
      ],
      "text/plain": [
       "           Weight      Height\n",
       "count   35.000000   35.000000\n",
       "mean    62.808571  165.070857\n",
       "std     25.004992   25.979902\n",
       "min     28.000000  121.920000\n",
       "25%     41.300000  143.510000\n",
       "50%     62.600000  165.100000\n",
       "75%     83.650000  186.690000\n",
       "max    104.800000  208.000000"
      ]
     },
     "execution_count": 7,
     "metadata": {},
     "output_type": "execute_result"
    }
   ],
   "source": [
    "df.describe()"
   ]
  },
  {
   "cell_type": "code",
   "execution_count": 8,
   "id": "17bd85e5",
   "metadata": {},
   "outputs": [
    {
     "data": {
      "text/html": [
       "<div>\n",
       "<style scoped>\n",
       "    .dataframe tbody tr th:only-of-type {\n",
       "        vertical-align: middle;\n",
       "    }\n",
       "\n",
       "    .dataframe tbody tr th {\n",
       "        vertical-align: top;\n",
       "    }\n",
       "\n",
       "    .dataframe thead th {\n",
       "        text-align: right;\n",
       "    }\n",
       "</style>\n",
       "<table border=\"1\" class=\"dataframe\">\n",
       "  <thead>\n",
       "    <tr style=\"text-align: right;\">\n",
       "      <th></th>\n",
       "      <th>Engine Size(L)</th>\n",
       "      <th>Cylinders</th>\n",
       "      <th>Fuel Consumption City (L/100 km)</th>\n",
       "      <th>Fuel Consumption Hwy (L/100 km)</th>\n",
       "      <th>Fuel Consumption Comb (L/100 km)</th>\n",
       "      <th>Fuel Consumption Comb (mpg)</th>\n",
       "      <th>CO2 Emissions(g/km)</th>\n",
       "    </tr>\n",
       "  </thead>\n",
       "  <tbody>\n",
       "    <tr>\n",
       "      <th>count</th>\n",
       "      <td>7385.000000</td>\n",
       "      <td>7385.000000</td>\n",
       "      <td>7385.000000</td>\n",
       "      <td>7385.000000</td>\n",
       "      <td>7385.000000</td>\n",
       "      <td>7385.000000</td>\n",
       "      <td>7385.000000</td>\n",
       "    </tr>\n",
       "    <tr>\n",
       "      <th>mean</th>\n",
       "      <td>3.160068</td>\n",
       "      <td>5.615030</td>\n",
       "      <td>12.556534</td>\n",
       "      <td>9.041706</td>\n",
       "      <td>10.975071</td>\n",
       "      <td>27.481652</td>\n",
       "      <td>250.584699</td>\n",
       "    </tr>\n",
       "    <tr>\n",
       "      <th>std</th>\n",
       "      <td>1.354170</td>\n",
       "      <td>1.828307</td>\n",
       "      <td>3.500274</td>\n",
       "      <td>2.224456</td>\n",
       "      <td>2.892506</td>\n",
       "      <td>7.231879</td>\n",
       "      <td>58.512679</td>\n",
       "    </tr>\n",
       "    <tr>\n",
       "      <th>min</th>\n",
       "      <td>0.900000</td>\n",
       "      <td>3.000000</td>\n",
       "      <td>4.200000</td>\n",
       "      <td>4.000000</td>\n",
       "      <td>4.100000</td>\n",
       "      <td>11.000000</td>\n",
       "      <td>96.000000</td>\n",
       "    </tr>\n",
       "    <tr>\n",
       "      <th>25%</th>\n",
       "      <td>2.000000</td>\n",
       "      <td>4.000000</td>\n",
       "      <td>10.100000</td>\n",
       "      <td>7.500000</td>\n",
       "      <td>8.900000</td>\n",
       "      <td>22.000000</td>\n",
       "      <td>208.000000</td>\n",
       "    </tr>\n",
       "    <tr>\n",
       "      <th>50%</th>\n",
       "      <td>3.000000</td>\n",
       "      <td>6.000000</td>\n",
       "      <td>12.100000</td>\n",
       "      <td>8.700000</td>\n",
       "      <td>10.600000</td>\n",
       "      <td>27.000000</td>\n",
       "      <td>246.000000</td>\n",
       "    </tr>\n",
       "    <tr>\n",
       "      <th>75%</th>\n",
       "      <td>3.700000</td>\n",
       "      <td>6.000000</td>\n",
       "      <td>14.600000</td>\n",
       "      <td>10.200000</td>\n",
       "      <td>12.600000</td>\n",
       "      <td>32.000000</td>\n",
       "      <td>288.000000</td>\n",
       "    </tr>\n",
       "    <tr>\n",
       "      <th>max</th>\n",
       "      <td>8.400000</td>\n",
       "      <td>16.000000</td>\n",
       "      <td>30.600000</td>\n",
       "      <td>20.600000</td>\n",
       "      <td>26.100000</td>\n",
       "      <td>69.000000</td>\n",
       "      <td>522.000000</td>\n",
       "    </tr>\n",
       "  </tbody>\n",
       "</table>\n",
       "</div>"
      ],
      "text/plain": [
       "       Engine Size(L)    Cylinders  Fuel Consumption City (L/100 km)  \\\n",
       "count     7385.000000  7385.000000                       7385.000000   \n",
       "mean         3.160068     5.615030                         12.556534   \n",
       "std          1.354170     1.828307                          3.500274   \n",
       "min          0.900000     3.000000                          4.200000   \n",
       "25%          2.000000     4.000000                         10.100000   \n",
       "50%          3.000000     6.000000                         12.100000   \n",
       "75%          3.700000     6.000000                         14.600000   \n",
       "max          8.400000    16.000000                         30.600000   \n",
       "\n",
       "       Fuel Consumption Hwy (L/100 km)  Fuel Consumption Comb (L/100 km)  \\\n",
       "count                      7385.000000                       7385.000000   \n",
       "mean                          9.041706                         10.975071   \n",
       "std                           2.224456                          2.892506   \n",
       "min                           4.000000                          4.100000   \n",
       "25%                           7.500000                          8.900000   \n",
       "50%                           8.700000                         10.600000   \n",
       "75%                          10.200000                         12.600000   \n",
       "max                          20.600000                         26.100000   \n",
       "\n",
       "       Fuel Consumption Comb (mpg)  CO2 Emissions(g/km)  \n",
       "count                  7385.000000          7385.000000  \n",
       "mean                     27.481652           250.584699  \n",
       "std                       7.231879            58.512679  \n",
       "min                      11.000000            96.000000  \n",
       "25%                      22.000000           208.000000  \n",
       "50%                      27.000000           246.000000  \n",
       "75%                      32.000000           288.000000  \n",
       "max                      69.000000           522.000000  "
      ]
     },
     "execution_count": 8,
     "metadata": {},
     "output_type": "execute_result"
    }
   ],
   "source": [
    "df1.describe()"
   ]
  },
  {
   "cell_type": "code",
   "execution_count": 9,
   "id": "5bcd315a-31c6-427c-aafe-226607e678c6",
   "metadata": {},
   "outputs": [],
   "source": [
    "\n",
    "Weight = df['Weight'].values\n",
    "Engine_Size = df1['Engine Size(L)'].values\n",
    "Fuel_Consumption = df1['Fuel Consumption Comb (L/100 km)'].values\n"
   ]
  },
  {
   "cell_type": "code",
   "execution_count": 10,
   "id": "647e5c3a-688c-44b1-9830-9722b8ee7819",
   "metadata": {},
   "outputs": [],
   "source": [
    "Height = df['Height'].values\n",
    "CO2_Emissions = df1['CO2 Emissions(g/km)'].values\n"
   ]
  },
  {
   "cell_type": "code",
   "execution_count": 11,
   "id": "6c000423-750a-4037-9084-361f6aaa33c4",
   "metadata": {},
   "outputs": [],
   "source": [
    "Weight = Weight.reshape(-1,1)\n",
    "Engine_Size = Engine_Size.reshape(-1,1)\n",
    "Fuel_Consumption = Fuel_Consumption.reshape(-1,1)"
   ]
  },
  {
   "cell_type": "code",
   "execution_count": 12,
   "id": "9ac35323-25a9-450d-93de-bb9e4868cbae",
   "metadata": {},
   "outputs": [],
   "source": [
    "Weight_train, Weight_test, Height_train, Height_test = train_test_split(Weight, Height, train_size=0.70, test_size=0.30, random_state= 100)\n"
   ]
  },
  {
   "cell_type": "code",
   "execution_count": 13,
   "id": "f17163e6-7e2d-41f1-86b0-2bed626591ec",
   "metadata": {},
   "outputs": [],
   "source": [
    "Engine_Size_train, Engine_Size_test, CO2_Emissions_train, CO2_Emissions_test = train_test_split(Engine_Size, CO2_Emissions, train_size=0.8, test_size=0.2, random_state= 100)\n"
   ]
  },
  {
   "cell_type": "code",
   "execution_count": 14,
   "id": "da17b424-699a-454c-8cdf-a96ecacf8559",
   "metadata": {},
   "outputs": [],
   "source": [
    "Fuel_Consumption_train, Fuel_Consumption_test, CO2_Emissions_train1, CO2_Emissions_test1 = train_test_split(Fuel_Consumption, CO2_Emissions, train_size=0.8, test_size=0.2, random_state= 100)"
   ]
  },
  {
   "cell_type": "markdown",
   "id": "554f4ac0-2720-460d-89a6-a23319c97509",
   "metadata": {},
   "source": [
    "### Fit your training split to the regression model."
   ]
  },
  {
   "cell_type": "code",
   "execution_count": 15,
   "id": "b34b8920-6558-422c-bf1c-1462fa3e50de",
   "metadata": {},
   "outputs": [
    {
     "data": {
      "text/plain": [
       "LinearRegression()"
      ]
     },
     "execution_count": 15,
     "metadata": {},
     "output_type": "execute_result"
    }
   ],
   "source": [
    "model0 = LinearRegression()\n",
    "model0.fit(Weight_train, Height_train)\n"
   ]
  },
  {
   "cell_type": "code",
   "execution_count": 16,
   "id": "0680f226-2da4-49b7-9c22-a935f5c8edca",
   "metadata": {},
   "outputs": [
    {
     "data": {
      "text/plain": [
       "LinearRegression()"
      ]
     },
     "execution_count": 16,
     "metadata": {},
     "output_type": "execute_result"
    }
   ],
   "source": [
    "model1 = LinearRegression()\n",
    "model1.fit(Engine_Size_train, CO2_Emissions_train)\n"
   ]
  },
  {
   "cell_type": "code",
   "execution_count": 17,
   "id": "631353a7-887c-43ed-9cd8-79c8dbb217b1",
   "metadata": {},
   "outputs": [
    {
     "data": {
      "text/plain": [
       "LinearRegression()"
      ]
     },
     "execution_count": 17,
     "metadata": {},
     "output_type": "execute_result"
    }
   ],
   "source": [
    "\n",
    "\n",
    "model2 = LinearRegression()\n",
    "model2.fit(Fuel_Consumption_train, CO2_Emissions_train)\n"
   ]
  },
  {
   "cell_type": "code",
   "execution_count": 18,
   "id": "72dfcdfe-a268-42cd-b3be-96f2f3de62b6",
   "metadata": {},
   "outputs": [],
   "source": [
    "Height_predict = model0.predict(Weight_test)\n",
    "CO2_Emissions_predict1  = model1.predict(Engine_Size_test)\n",
    "CO2_Emissions_predict2 = model2.predict(Fuel_Consumption_test)\n",
    "\n"
   ]
  },
  {
   "cell_type": "markdown",
   "id": "62312ba3-4119-4297-a8b6-3200014ef631",
   "metadata": {},
   "source": [
    "### Show your regression model’s score."
   ]
  },
  {
   "cell_type": "markdown",
   "id": "58db2cce-0ab5-4f8c-93a7-8a1311814b65",
   "metadata": {},
   "source": [
    "1. Weight vs Height "
   ]
  },
  {
   "cell_type": "code",
   "execution_count": 19,
   "id": "7dfb92d3-1d29-4e26-9982-4e79bd10892b",
   "metadata": {},
   "outputs": [
    {
     "name": "stdout",
     "output_type": "stream",
     "text": [
      "Testing Accuracy: 99.45583079933971%\n",
      "Training Accuracy: 99.47652551228701%\n"
     ]
    }
   ],
   "source": [
    "print(f'Testing Accuracy: {model0.score(Weight_test, Height_test)*100}%')\n",
    "print(f'Training Accuracy: {model0.score(Weight_train, Height_train)*100}%')"
   ]
  },
  {
   "cell_type": "markdown",
   "id": "468c1aa8-b985-42ea-a156-98be6ea3465a",
   "metadata": {},
   "source": [
    "2. Engine Size(L) vs CO2 Emissions"
   ]
  },
  {
   "cell_type": "code",
   "execution_count": 20,
   "id": "8537d4e7-65ab-4452-aad9-a7d465fac7ad",
   "metadata": {},
   "outputs": [
    {
     "name": "stdout",
     "output_type": "stream",
     "text": [
      "Testing Accuracy: 72.91596546032322%\n",
      "Training Accuracy: 72.28377038269245%\n"
     ]
    }
   ],
   "source": [
    "print(f'Testing Accuracy: {model1.score(Engine_Size_test, CO2_Emissions_test)*100}%')\n",
    "print(f'Training Accuracy: {model1.score(Engine_Size_train, CO2_Emissions_train)*100}%')"
   ]
  },
  {
   "cell_type": "markdown",
   "id": "fb0fc85e-be8c-4ceb-8235-cf02c5c2688b",
   "metadata": {},
   "source": [
    "3. Fuel_Consumption vs CO2 Emissions"
   ]
  },
  {
   "cell_type": "code",
   "execution_count": 21,
   "id": "719e4d1a-9800-45c6-8f35-d7c3cbc48105",
   "metadata": {},
   "outputs": [
    {
     "name": "stdout",
     "output_type": "stream",
     "text": [
      "Testing Accuracy: 83.2433040568181%\n",
      "Training Accuracy: 84.51383802324834%\n"
     ]
    }
   ],
   "source": [
    "print(f'Testing Accuracy: {model2.score(Fuel_Consumption_test, CO2_Emissions_test)*100}%')\n",
    "print(f'Training Accuracy: {model2.score(Fuel_Consumption_train, CO2_Emissions_train)*100}%')"
   ]
  },
  {
   "cell_type": "markdown",
   "id": "da61a1d8-9a2b-469f-a5d3-4dac1e20ab62",
   "metadata": {},
   "source": [
    "#### Draw at least three conclusions from your regression model."
   ]
  },
  {
   "cell_type": "markdown",
   "id": "6233f024-18cc-47cc-a7c4-f41662a5eefc",
   "metadata": {},
   "source": [
    "1. Weight vs Height "
   ]
  },
  {
   "cell_type": "code",
   "execution_count": 22,
   "id": "1ec3dfac-59ad-41b5-914a-592d645aa63e",
   "metadata": {},
   "outputs": [
    {
     "data": {
      "image/png": "[encoded data removed]",
      "text/plain": [
       "<Figure size 432x288 with 1 Axes>"
      ]
     },
     "metadata": {
      "needs_background": "light"
     },
     "output_type": "display_data"
    }
   ],
   "source": [
    "%matplotlib inline\n",
    "plt.scatter(Weight_train, Height_train, color='blue')\n",
    "plt.scatter(Weight_test, Height_test, color='green')\n",
    "plt.plot(Weight_test, Height_predict, color='red')\n",
    "plt.xlabel('Weight')\n",
    "plt.ylabel('Height')\n",
    "plt.title('Training Data')\n",
    "plt.show()"
   ]
  },
  {
   "cell_type": "code",
   "execution_count": 23,
   "id": "a7ad1138-b344-40c5-bb8e-39f2474134a5",
   "metadata": {},
   "outputs": [],
   "source": [
    "# conclusion : the Weight will increase linearly with the Height within accurecy of 99.4%"
   ]
  },
  {
   "cell_type": "markdown",
   "id": "bc4d5ffa-cdf1-4a32-9ba1-e76724ed1af8",
   "metadata": {},
   "source": [
    "2. Engine Size(L) vs CO2 Emissions\n"
   ]
  },
  {
   "cell_type": "code",
   "execution_count": 24,
   "id": "1a5def2e-5626-4525-b85c-de70345740fc",
   "metadata": {},
   "outputs": [
    {
     "data": {
      "image/png": "[encoded data removed]",
      "text/plain": [
       "<Figure size 432x288 with 1 Axes>"
      ]
     },
     "metadata": {
      "needs_background": "light"
     },
     "output_type": "display_data"
    }
   ],
   "source": [
    "%matplotlib inline\n",
    "plt.scatter(Engine_Size_train, CO2_Emissions_train, color='blue')\n",
    "plt.scatter(Engine_Size_test, CO2_Emissions_test, color='green')\n",
    "plt.plot(Engine_Size_test, CO2_Emissions_predict1, color='red')\n",
    "plt.xlabel('Engine Size')\n",
    "plt.ylabel('CO2 Emissions')\n",
    "plt.title('Training Data')\n",
    "plt.show()"
   ]
  },
  {
   "cell_type": "code",
   "execution_count": 25,
   "id": "88a8b73b-10b0-4af8-b3de-edc912198b40",
   "metadata": {},
   "outputs": [],
   "source": [
    "# conclusion: The CO2 Emissions increase with the increas in Enigine size"
   ]
  },
  {
   "cell_type": "markdown",
   "id": "eeb13147-17b1-438a-9fb3-669b24bfa309",
   "metadata": {},
   "source": [
    "3. Fuel_Consumption vs CO2 Emissions"
   ]
  },
  {
   "cell_type": "code",
   "execution_count": 26,
   "id": "e8e86ddf-8208-414e-885a-681f01848f2e",
   "metadata": {},
   "outputs": [
    {
     "data": {
      "image/png": "[encoded data removed]",
      "text/plain": [
       "<Figure size 432x288 with 1 Axes>"
      ]
     },
     "metadata": {
      "needs_background": "light"
     },
     "output_type": "display_data"
    }
   ],
   "source": [
    "%matplotlib inline\n",
    "plt.scatter(Fuel_Consumption_train, CO2_Emissions_train1, color='blue')\n",
    "plt.scatter(Fuel_Consumption_test, CO2_Emissions_test1, color='green')\n",
    "plt.plot(Fuel_Consumption_test, CO2_Emissions_predict2, color='red')\n",
    "plt.xlabel('Fuel Consumption')\n",
    "plt.ylabel('CO2 Emissions')\n",
    "plt.title('Training Data')\n",
    "plt.show()"
   ]
  },
  {
   "cell_type": "code",
   "execution_count": 27,
   "id": "d5fceda5-8f67-4f77-b49d-81ab4b6780db",
   "metadata": {},
   "outputs": [],
   "source": [
    "# conclusion: The CO2 Emissions will increase linerly with the increasing in Fuel Consumption "
   ]
  },
  {
   "cell_type": "code",
   "execution_count": null,
   "id": "534db0dd-058b-4b7c-a569-522cfe29152f",
   "metadata": {},
   "outputs": [],
   "source": []
  }
 ],
 "metadata": {
  "interpreter": {
   "hash": "605fc9d2d01d4e109653e2205e07ed32e8b9ac61f1ca3be8cb23d578776ad026"
  },
  "kernelspec": {
   "display_name": "Python 3",
   "language": "python",
   "name": "python3"
  },
  "language_info": {
   "codemirror_mode": {
    "name": "ipython",
    "version": 3
   },
   "file_extension": ".py",
   "mimetype": "text/x-python",
   "name": "python",
   "nbconvert_exporter": "python",
   "pygments_lexer": "ipython3",
   "version": "3.9.4"
  }
 },
 "nbformat": 4,
 "nbformat_minor": 5
}
